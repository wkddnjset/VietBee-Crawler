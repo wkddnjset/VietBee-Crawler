{
 "cells": [
  {
   "cell_type": "code",
   "execution_count": 2,
   "metadata": {},
   "outputs": [],
   "source": [
    "import requests\n",
    "from bs4 import BeautifulSoup"
   ]
  },
  {
   "cell_type": "code",
   "execution_count": 55,
   "metadata": {},
   "outputs": [],
   "source": [
    "VietNamUrl = \"https://www.socialbakers.com/statistics/facebook/pages/total/vietnam/\"\n",
    "KoreaUrl = \"https://www.socialbakers.com/statistics/facebook/pages/total/south-korea/\""
   ]
  },
  {
   "cell_type": "code",
   "execution_count": 56,
   "metadata": {},
   "outputs": [],
   "source": [
    "PageList = []\n",
    "for i in range(96):\n",
    "    StartNum =  i+1\n",
    "    EndNum = i+5\n",
    "    PageList.append('page-' + str(StartNum)+'-'+str(EndNum)+'/')"
   ]
  },
  {
   "cell_type": "code",
   "execution_count": 95,
   "metadata": {},
   "outputs": [],
   "source": [
    "def GetUrlList(NationUrl):\n",
    "    url_list = []\n",
    "    for page in PageList[0:2]:\n",
    "        url_list.append(NationUrl+page)\n",
    "    return url_list"
   ]
  },
  {
   "cell_type": "code",
   "execution_count": 200,
   "metadata": {},
   "outputs": [],
   "source": [
    "def GetDataFromUrl(Url):\n",
    "    name_list = []\n",
    "    follower_list = []\n",
    "    html = requests.get(Url)\n",
    "    soup = BeautifulSoup(html.text, 'html.parser')\n",
    "    names = soup.select('table tr .show-name')\n",
    "    followers = soup.select('table tr strong')\n",
    "#     print(soup.select('table tr'))\n",
    "    for name in names:\n",
    "        name_list.append(name.text.replace(\"\\t\",\"\").replace(\"\\n\",\"\"))\n",
    "    for follower in followers:\n",
    "        follower = (follower.text.replace(\"\\t\",\"\").replace(\"\\n\",\"\"))\n",
    "        follower_list.append(str(follower.encode('unicode-escape').decode(\"utf-8\")).replace(\"\\\\xa\",\"\") )\n",
    "    return name_list, follower_list"
   ]
  },
  {
   "cell_type": "code",
   "execution_count": 201,
   "metadata": {},
   "outputs": [
    {
     "name": "stdout",
     "output_type": "stream",
     "text": [
      "['Lee Minho (이민호)', 'PSY', 'BIGBANG', '하이마트(Hi-mart)', '2NE1', '슈퍼주니어(Super Junior)', 'EXO', 'Koreaboo', \"소녀시대(Girls' Generation)\", 'G-DRAGON', 'BTS', 'Gmarket Global', '샤이니(SHINee)', 'Kim Beom (김범)', 'Everland', 'DJ SODA', 'SMTOWN', 'Hyundai Motorsport', '인사이트', 'Koo Hye Sun - 구혜선', '롯데월드 (lotteworld)', 'TAEYANG', 'DramaFever', '김현중 (Kim Hyun Joong)', '오늘 뭐 먹지?', 'CNBLUE', 'GOT7', 'City Hunter - Korean Drama', 'EXO', 'Facebook', 'Song Seung Heon (송승헌)', '칸투칸', 'dispatch news', 'vonvon.me', '2pm', 'YG FAMILY', '삼성전자 뉴스룸', 'Sistar (씨스타)', 'Boyfriend (보이프렌드)', 'T-ARA', '에프엑스 f(x)', '일반인들의 소름돋는 라이브', 'KPOP on Facebook', 'SS501', 'G마켓', 'KBS World', '런닝맨 RunningMan', 'Mnet 엠카운트다운(M COUNTDOWN) X M2', 'Yuna Kim', '1theK (원더케이)']\n",
      "['1704850999', '1101710022', '1008830914', '1002600075', '902510403', '709070297', '704960454', '704250672', '703250157', '701200586', '605670651', '603350596', '509780020', '509250619', '507680872', '506130626', '505520588', '503170440', '502580835', '502050194', '409710642', '409270908', '407750720', '407080760', '406070075', '404940982', '401240398', '400910401', '309660980', '308500291', '308380626', '308320344', '308090206', '306860675', '306840901', '303490093', '303240933', '302890535', '302820200', '302080084', '301860894', '301780842', '301190286', '300290020', '209990252', '209800456', '209000021', '208010891', '207670346', '206820611']\n",
      "['BTS', 'Gmarket Global', '샤이니(SHINee)', 'Kim Beom (김범)', 'Everland', 'DJ SODA', 'SMTOWN', 'Hyundai Motorsport', '인사이트', 'Koo Hye Sun - 구혜선', '롯데월드 (lotteworld)', 'TAEYANG', 'DramaFever', '김현중 (Kim Hyun Joong)', '오늘 뭐 먹지?', 'CNBLUE', 'GOT7', 'City Hunter - Korean Drama', 'EXO', 'Facebook', 'Song Seung Heon (송승헌)', '칸투칸', 'dispatch news', 'vonvon.me', '2pm', 'YG FAMILY', '삼성전자 뉴스룸', 'Sistar (씨스타)', 'Boyfriend (보이프렌드)', 'T-ARA', '에프엑스 f(x)', '일반인들의 소름돋는 라이브', 'KPOP on Facebook', 'SS501', 'G마켓', 'KBS World', '런닝맨 RunningMan', 'Mnet 엠카운트다운(M COUNTDOWN) X M2', 'Yuna Kim', '1theK (원더케이)', 'Kim Hyun Joong', 'CGV', '흥베이커리XtvN', '유키스(U-KISS)', '보아(BoA)', 'Seungri', 'miss A', '롯데백화점 (LOTTE Department Store)', '아이유(iu)', 'JYP']\n",
      "['605670651', '603350596', '509780020', '509250619', '507680872', '506130626', '505520588', '503170440', '502580835', '502050194', '409710642', '409270908', '407750720', '407080760', '406070075', '404940982', '401240398', '400910401', '309660980', '308500291', '308380626', '308320344', '308090206', '306860675', '306840901', '303490093', '303240933', '302890535', '302820200', '302080084', '301860894', '301780842', '301190286', '300290020', '209990252', '209800456', '209000021', '208010891', '207670346', '206820611', '206750235', '206520582', '205660560', '205170331', '204700143', '203990239', '203960318', '203510445', '202770664', '202720257']\n"
     ]
    }
   ],
   "source": [
    "UrlList = GetUrlList(KoreaUrl)\n",
    "for url in UrlList:\n",
    "    name, follower = GetDataFromUrl(url)\n",
    "    print(name)\n",
    "    print(follower)"
   ]
  },
  {
   "cell_type": "code",
   "execution_count": 186,
   "metadata": {},
   "outputs": [
    {
     "data": {
      "text/plain": [
       "'6\\xa0567\\xa0651'"
      ]
     },
     "execution_count": 186,
     "metadata": {},
     "output_type": "execute_result"
    }
   ],
   "source": [
    "follower[0]"
   ]
  },
  {
   "cell_type": "code",
   "execution_count": 199,
   "metadata": {},
   "outputs": [
    {
     "data": {
      "text/plain": [
       "'605670651'"
      ]
     },
     "execution_count": 199,
     "metadata": {},
     "output_type": "execute_result"
    }
   ],
   "source": [
    "str(follower[0].encode('unicode-escape').decode(\"utf-8\")).replace(\"\\\\xa\",\"\") "
   ]
  },
  {
   "cell_type": "code",
   "execution_count": 149,
   "metadata": {},
   "outputs": [
    {
     "data": {
      "text/plain": [
       "b'17\\xc2\\xa0485\\xc2\\xa0999'"
      ]
     },
     "execution_count": 149,
     "metadata": {},
     "output_type": "execute_result"
    }
   ],
   "source": [
    "a.encode(\"utf-8\")"
   ]
  },
  {
   "cell_type": "code",
   "execution_count": null,
   "metadata": {},
   "outputs": [],
   "source": []
  }
 ],
 "metadata": {
  "kernelspec": {
   "display_name": "Python 3",
   "language": "python",
   "name": "python3"
  },
  "language_info": {
   "codemirror_mode": {
    "name": "ipython",
    "version": 3
   },
   "file_extension": ".py",
   "mimetype": "text/x-python",
   "name": "python",
   "nbconvert_exporter": "python",
   "pygments_lexer": "ipython3",
   "version": "3.6.4"
  }
 },
 "nbformat": 4,
 "nbformat_minor": 2
}
